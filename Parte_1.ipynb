{
  "nbformat": 4,
  "nbformat_minor": 0,
  "metadata": {
    "colab": {
      "name": "Tarea_2_parte_1.ipynb",
      "version": "0.3.2",
      "provenance": [],
      "collapsed_sections": [],
      "include_colab_link": true
    },
    "kernelspec": {
      "name": "python3",
      "display_name": "Python 3"
    },
    "accelerator": "GPU"
  },
  "cells": [
    {
      "cell_type": "markdown",
      "metadata": {
        "id": "view-in-github",
        "colab_type": "text"
      },
      "source": [
        "<a href=\"https://colab.research.google.com/github/neuralnetworksrs/Tarea-2/blob/master/Parte_1.ipynb\" target=\"_parent\"><img src=\"https://colab.research.google.com/assets/colab-badge.svg\" alt=\"Open In Colab\"/></a>"
      ]
    },
    {
      "cell_type": "markdown",
      "metadata": {
        "id": "I-UAYsDOLXHx",
        "colab_type": "text"
      },
      "source": [
        ""
      ]
    },
    {
      "cell_type": "markdown",
      "metadata": {
        "colab_type": "text",
        "id": "0Y1tHj3DNqhX"
      },
      "source": [
        "<img src=\"http://www.exalumnos.usm.cl/wp-content/uploads/2015/06/Isotipo-Negro.gif\" title=\"Title text\" width=\"20%\" height=\"20%\" />\n",
        "\n",
        "\n",
        "<hr style=\"height:2px;border:none\"/>\n",
        "<h1 align='center'> INF-395/477 Redes Neuronales Artificiales I-2018 </h1>\n",
        "\n",
        "<H3 align='center'> Tarea 2 - Aplicaciones Recientes de Redes Neuronales </H3>\n",
        "<hr style=\"height:2px;border:none\"/>\n",
        "\n",
        "**Temas**  \n",
        "\n",
        "* Diseño e implementación detallado de Redes Recurrentes (RNN) y sus derivados.\n",
        "* Compuertas LSTM y GRU. \n",
        "* Arquitectura Encoder-Decoder para problemas de *traducción*.\n",
        "* Arquitectura de Autoencoder para reducción de dimensionalidad.\n",
        "* Modelos generativos profundos: VAEs (*Variational Autoencoder*)\n",
        "\n",
        "** Formalidades **  \n",
        "* Equipos de trabajo de: 2-3 personas (*cada uno debe estar en condiciones de realizar una presentación y discutir sobre cada punto del trabajo realizado*)\n",
        "* Se debe preparar una presentación de 20 minutos. Presentador será elegido aleatoriamente.\n",
        "* Se debe preparar un (breve) Jupyter/IPython notebook que explique la actividad realizada y las conclusiones del trabajo\n",
        "* Fecha de entrega y discusión: por definir.\n",
        "* Formato de entrega: envı́o de link Github al correo electrónico del ayudante (*<francisco.mena.13@sansano.usm.cl>*) , incluyendo al profesor en copia (*<jnancu@inf.utfsm.cl>*). Por favor especificar el siguiente asunto: [Tarea2-INF395-I-2019]\n",
        "\n",
        "<hr style=\"height:2px;border:none\"/>\n",
        "La tarea se divide en secciones:\n",
        "\n",
        "[0+.](#bonus) Bonus  \n",
        "[1.](#primero) RNN sobre texto  \n",
        "[2.](#segundo) *Encoder-Decoder* sobre imágenes    \n",
        "[3.](#tercero) *Encoder-Decoder* sobre Texto    \n",
        "[4.](#cuarto) Distintos tipos de autoencoders (AEs) en MNIST    "
      ]
    },
    {
      "cell_type": "code",
      "metadata": {
        "id": "oh9x6EeChaZC",
        "colab_type": "code",
        "outputId": "0cfafb48-72a8-4e69-e1f7-ed2acb23e705",
        "colab": {
          "base_uri": "https://localhost:8080/",
          "height": 128
        }
      },
      "source": [
        "from google.colab import drive\n",
        "drive.mount('/content/gdrive')"
      ],
      "execution_count": 0,
      "outputs": [
        {
          "output_type": "stream",
          "text": [
            "Go to this URL in a browser: https://accounts.google.com/o/oauth2/auth?client_id=947318989803-6bn6qk8qdgf4n4g3pfee6491hc0brc4i.apps.googleusercontent.com&redirect_uri=urn%3Aietf%3Awg%3Aoauth%3A2.0%3Aoob&scope=email%20https%3A%2F%2Fwww.googleapis.com%2Fauth%2Fdocs.test%20https%3A%2F%2Fwww.googleapis.com%2Fauth%2Fdrive%20https%3A%2F%2Fwww.googleapis.com%2Fauth%2Fdrive.photos.readonly%20https%3A%2F%2Fwww.googleapis.com%2Fauth%2Fpeopleapi.readonly&response_type=code\n",
            "\n",
            "Enter your authorization code:\n",
            "··········\n",
            "Mounted at /content/gdrive\n"
          ],
          "name": "stdout"
        }
      ]
    },
    {
      "cell_type": "code",
      "metadata": {
        "id": "qYJgWGe8h3ZX",
        "colab_type": "code",
        "colab": {}
      },
      "source": [
        "%matplotlib inline\n",
        "import warnings\n",
        "warnings.filterwarnings('ignore')"
      ],
      "execution_count": 0,
      "outputs": []
    },
    {
      "cell_type": "markdown",
      "metadata": {
        "id": "R26Pn7SvlEM-",
        "colab_type": "text"
      },
      "source": [
        "<a id=\"primero\"></a>\n",
        "## 1. RNN sobre texto\n",
        "---\n",
        "\n",
        "Hoy en dı́a, una aplicación relevante de las redes neuronales recurrentes es el modelamiento de texto y lenguaje natural. En esta sección abordaremos el problema de procesar sentencias de texto, proporcionadas por GMB (*Groningen Meaning Bank*), para reconocimiento de entidades y *tagger*. En específico, trabajaremos con el dataset proprocionado a través de __[Kaggle](https://www.kaggle.com/abhinavwalia95/entity-annotated-corpus)__, que está compuesto por más de un millón de palabras, a fin de realizar predicciones sobre distintas tareas de redes recurrentes.\n",
        "\n",
        "<img src=\"https://i.stack.imgur.com/b4sus.jpg\" width=\"70%\" />\n",
        "\n",
        "\n",
        "Descargue los datos de la página de __[Kaggle](https://www.kaggle.com/abhinavwalia95/entity-annotated-corpus)__ y cárguelos mediante *pandas*."
      ]
    },
    {
      "cell_type": "code",
      "metadata": {
        "id": "glV6MYaMlKcw",
        "colab_type": "code",
        "outputId": "f3c9bae5-a24d-4bdb-8a59-5820dc2ad6ec",
        "colab": {
          "base_uri": "https://localhost:8080/",
          "height": 35
        }
      },
      "source": [
        "import numpy as np\n",
        "import pandas as pd\n",
        "df_ner = pd.read_csv(\"/content/gdrive/My Drive/Colab Notebooks/Redes Neuronales/Tarea2/ner.csv\", encoding =\"cp1252\", error_bad_lines=False)\n",
        "df_ner.dropna(inplace=True)"
      ],
      "execution_count": 0,
      "outputs": [
        {
          "output_type": "stream",
          "text": [
            "b'Skipping line 281837: expected 25 fields, saw 34\\n'\n"
          ],
          "name": "stderr"
        }
      ]
    },
    {
      "cell_type": "markdown",
      "metadata": {
        "id": "6yTQpEc2l68-",
        "colab_type": "text"
      },
      "source": [
        "a) En esta primera instancia trabajaremos con la tarea de realizar un NER tag (Named Entity Recognition) sobre cada una de las palabras en las sentencias que se nos presenta en los datos. Esta tarea es del tipo many to many, es decir, la entrada es una secuencia y la salida es una secuencia, sin shift, por lo que necesitaremos una estructura de red adecuada a ésto. En primer lugar extraiga las columnas que utilizaremos del dataset ¿Por qué es conveniente utilizar lemma en vez de la misma palabra?"
      ]
    },
    {
      "cell_type": "code",
      "metadata": {
        "id": "beKa4LcvmNIn",
        "colab_type": "code",
        "outputId": "51f6e470-d8a8-4672-c3ba-d3c7809e3337",
        "colab": {
          "base_uri": "https://localhost:8080/",
          "height": 206
        }
      },
      "source": [
        "dataset = df_ner.loc[:,[\"lemma\",\"word\",\"pos\",\"tag\",\"prev-iob\"]]\n",
        "dataset.head()"
      ],
      "execution_count": 0,
      "outputs": [
        {
          "output_type": "execute_result",
          "data": {
            "text/html": [
              "<div>\n",
              "<style scoped>\n",
              "    .dataframe tbody tr th:only-of-type {\n",
              "        vertical-align: middle;\n",
              "    }\n",
              "\n",
              "    .dataframe tbody tr th {\n",
              "        vertical-align: top;\n",
              "    }\n",
              "\n",
              "    .dataframe thead th {\n",
              "        text-align: right;\n",
              "    }\n",
              "</style>\n",
              "<table border=\"1\" class=\"dataframe\">\n",
              "  <thead>\n",
              "    <tr style=\"text-align: right;\">\n",
              "      <th></th>\n",
              "      <th>lemma</th>\n",
              "      <th>word</th>\n",
              "      <th>pos</th>\n",
              "      <th>tag</th>\n",
              "      <th>prev-iob</th>\n",
              "    </tr>\n",
              "  </thead>\n",
              "  <tbody>\n",
              "    <tr>\n",
              "      <th>0</th>\n",
              "      <td>thousand</td>\n",
              "      <td>Thousands</td>\n",
              "      <td>NNS</td>\n",
              "      <td>O</td>\n",
              "      <td>__START1__</td>\n",
              "    </tr>\n",
              "    <tr>\n",
              "      <th>1</th>\n",
              "      <td>of</td>\n",
              "      <td>of</td>\n",
              "      <td>IN</td>\n",
              "      <td>O</td>\n",
              "      <td>O</td>\n",
              "    </tr>\n",
              "    <tr>\n",
              "      <th>2</th>\n",
              "      <td>demonstr</td>\n",
              "      <td>demonstrators</td>\n",
              "      <td>NNS</td>\n",
              "      <td>O</td>\n",
              "      <td>O</td>\n",
              "    </tr>\n",
              "    <tr>\n",
              "      <th>3</th>\n",
              "      <td>have</td>\n",
              "      <td>have</td>\n",
              "      <td>VBP</td>\n",
              "      <td>O</td>\n",
              "      <td>O</td>\n",
              "    </tr>\n",
              "    <tr>\n",
              "      <th>4</th>\n",
              "      <td>march</td>\n",
              "      <td>marched</td>\n",
              "      <td>VBN</td>\n",
              "      <td>O</td>\n",
              "      <td>O</td>\n",
              "    </tr>\n",
              "  </tbody>\n",
              "</table>\n",
              "</div>"
            ],
            "text/plain": [
              "      lemma           word  pos tag    prev-iob\n",
              "0  thousand      Thousands  NNS   O  __START1__\n",
              "1        of             of   IN   O           O\n",
              "2  demonstr  demonstrators  NNS   O           O\n",
              "3      have           have  VBP   O           O\n",
              "4     march        marched  VBN   O           O"
            ]
          },
          "metadata": {
            "tags": []
          },
          "execution_count": 6
        }
      ]
    },
    {
      "cell_type": "markdown",
      "metadata": {
        "id": "i822IZHPOBI3",
        "colab_type": "text"
      },
      "source": [
        "Es conveniente usar lemma en vez de la misma palabra porque así nos ahorramos aumentar las dimensiones por cada palabra diferente en el dataset. Le da valor según el contexto, además de categorizar las palabras desde su raíz (Stemming)"
      ]
    },
    {
      "cell_type": "markdown",
      "metadata": {
        "id": "1EOdetwfmMCJ",
        "colab_type": "text"
      },
      "source": [
        "Luego de esto cree una estructura que contendrá todas las sentencias u oraciones (lista de *lemmas*) y otra estructura que contendrá las etiquetas (lista de *tags*). **¿Cuales son las dimensiones de ambas estructuras? ¿Cada dato de ejemplo tiene las mismas dimensiones que el resto?**"
      ]
    },
    {
      "cell_type": "code",
      "metadata": {
        "id": "IhQfvC8smUsz",
        "colab_type": "code",
        "colab": {}
      },
      "source": [
        "n_used = 500000 #data to use-- your choice\n",
        "dataX_raw,dataY_raw = [],[]\n",
        "lemmas,labels = set(), set()  #uniques\n",
        "sentence= []\n",
        "labels_sentence = []\n",
        "for fila in dataset.values[:n_used]:\n",
        "    if fila[-1]==\"__START1__\": \n",
        "        dataX_raw.append(sentence)\n",
        "        dataY_raw.append(labels_sentence)\n",
        "        sentence= []\n",
        "        labels_sentence = []\n",
        "    lemmas.add(fila[0])\n",
        "    labels.add(fila[3])\n",
        "    sentence.append(fila[0]) #add lemma\n",
        "    labels_sentence.append(fila[3]) #TAG\n",
        "dataX_raw = dataX_raw[1:]\n",
        "dataY_raw = dataY_raw[1:]\n"
      ],
      "execution_count": 0,
      "outputs": []
    },
    {
      "cell_type": "code",
      "metadata": {
        "id": "rDKLoFIdRD-b",
        "colab_type": "code",
        "outputId": "e9062230-e82a-44b3-b9c4-068d2c39681c",
        "colab": {
          "base_uri": "https://localhost:8080/",
          "height": 72
        }
      },
      "source": [
        "print(\"Total de sentencias:\",len(dataX_raw))\n",
        "print(\"Total de etiquetas:\",len(labels))\n",
        "print(\"Total de palabras:\",len(lemmas))"
      ],
      "execution_count": 0,
      "outputs": [
        {
          "output_type": "stream",
          "text": [
            "Total de sentencias: 22901\n",
            "Total de etiquetas: 17\n",
            "Total de palabras: 12450\n"
          ],
          "name": "stdout"
        }
      ]
    },
    {
      "cell_type": "code",
      "metadata": {
        "id": "aApDSiNKRWo0",
        "colab_type": "code",
        "outputId": "96e7973c-f8ec-4619-dd09-cf7c4cbf00a8",
        "colab": {
          "base_uri": "https://localhost:8080/",
          "height": 35
        }
      },
      "source": [
        "equal_dimension = True\n",
        "for i in range(0,len(dataX_raw)):\n",
        "  for j in range(0,len(dataX_raw)):\n",
        "    if len(dataX_raw[i]) != len(dataY_raw[j]):\n",
        "      equal_dimension = False\n",
        "      break\n",
        "if equal_dimension:\n",
        "  print('Tienen la misma dimensión todos los datos')\n",
        "else:\n",
        "  print('No tienen la misma dimensión todos los datos')"
      ],
      "execution_count": 0,
      "outputs": [
        {
          "output_type": "stream",
          "text": [
            "No tienen la misma dimensión todos los datos\n"
          ],
          "name": "stdout"
        }
      ]
    },
    {
      "cell_type": "markdown",
      "metadata": {
        "id": "uDSnjNzeqN5c",
        "colab_type": "text"
      },
      "source": [
        "> b) Estudie la distribución del largo de los textos a procesar. Estudie también la frecuencia con la que aparecen las palabras en todo el dataset. **¿Se observa una ley Zipf?**[[1]](#refs) Realice un gráfico de la cantidad de datos por clase. Comente. 1/n"
      ]
    },
    {
      "cell_type": "code",
      "metadata": {
        "id": "zF_OlMuoiAFr",
        "colab_type": "code",
        "colab": {}
      },
      "source": [
        "sentence_frequency = {}\n",
        "word_frequency = {}\n",
        "\n",
        "for sentence in dataX_raw:\n",
        "  if len(sentence) in sentence_frequency.keys():\n",
        "      sentence_frequency[len(sentence)] += 1 \n",
        "  else:\n",
        "      sentence_frequency[len(sentence)] = 0\n",
        "  for word in sentence:\n",
        "    if word in word_frequency:\n",
        "      word_frequency[word] += 1 \n",
        "    else:\n",
        "      word_frequency[word] = 0\n",
        "      \n",
        "tag_frequency = {}\n",
        "\n",
        "for sentence in dataY_raw:\n",
        "    for tag in sentence:\n",
        "        if tag != 'O':\n",
        "          if tag not in tag_frequency.keys():\n",
        "            tag_frequency[tag] = 1\n",
        "          else:\n",
        "            tag_frequency[tag] += 1"
      ],
      "execution_count": 0,
      "outputs": []
    },
    {
      "cell_type": "code",
      "metadata": {
        "id": "WI6xnsGirMKn",
        "colab_type": "code",
        "outputId": "e5aa4cf2-287f-443f-c519-23322f76eaba",
        "colab": {
          "base_uri": "https://localhost:8080/",
          "height": 458
        }
      },
      "source": [
        "plt.figure(figsize=(15,7))\n",
        "\n",
        "plt.bar(sentence_frequency.keys(), sentence_frequency.values())\n",
        "plt.xlabel('Cantidad de palabras en la sentencia')\n",
        "plt.ylabel('Frecuencia')\n",
        "plt.title('Frecuencia según la cantidad de palabras en la sentencia')\n",
        "\n",
        "plt.show()"
      ],
      "execution_count": 0,
      "outputs": [
        {
          "output_type": "display_data",
          "data": {
            "image/png": "[encoded data removed]",
            "text/plain": [
              "<Figure size 1080x504 with 1 Axes>"
            ]
          },
          "metadata": {
            "tags": []
          }
        }
      ]
    },
    {
      "cell_type": "markdown",
      "metadata": {
        "id": "mJRffcKDuTW6",
        "colab_type": "text"
      },
      "source": [
        "Se puede ver en la distribución de los datos, que el número de palabras en la sentencia más repetidos están entre 15 y 25. La distribución se asemeja a una distribución normal."
      ]
    },
    {
      "cell_type": "code",
      "metadata": {
        "id": "gcruF-254AJw",
        "colab_type": "code",
        "colab": {}
      },
      "source": [
        "tags_tuples = [(tag_frequency[key], key) for key in tag_frequency.keys()]\n",
        "tags_tuples.sort(reverse=True)\n",
        "\n",
        "x_ticks = []\n",
        "y_ticks = []\n",
        "\n",
        "for i in range(len(tags_tuples)):\n",
        "    y_ticks.append(tags_tuples[i][0])\n",
        "    x_ticks.append(tags_tuples[i][1])"
      ],
      "execution_count": 0,
      "outputs": []
    },
    {
      "cell_type": "code",
      "metadata": {
        "id": "rpcclzRA4IV4",
        "colab_type": "code",
        "outputId": "63f469a1-518f-4f24-96e8-1cc4922e1e77",
        "colab": {
          "base_uri": "https://localhost:8080/",
          "height": 458
        }
      },
      "source": [
        "plt.figure(figsize=(15,7))\n",
        "\n",
        "plt.bar(x_ticks, y_ticks)\n",
        "plt.xlabel('Tags')\n",
        "plt.ylabel('Frecuencias')\n",
        "plt.title('Frecuencias según tags')\n",
        "\n",
        "plt.show()"
      ],
      "execution_count": 0,
      "outputs": [
        {
          "output_type": "display_data",
          "data": {
            "image/png": "[encoded data removed]",
            "text/plain": [
              "<Figure size 1080x504 with 1 Axes>"
            ]
          },
          "metadata": {
            "tags": []
          }
        }
      ]
    },
    {
      "cell_type": "code",
      "metadata": {
        "id": "YL_3Iuw54dXR",
        "colab_type": "code",
        "outputId": "c3e8f98e-1b18-46d3-c10b-aa8d4e7e8c8b",
        "colab": {
          "base_uri": "https://localhost:8080/",
          "height": 35
        }
      },
      "source": [
        "B_geo = 100*y_ticks[0]/sum(y_ticks)\n",
        "B_tim = 100*y_ticks[1]/sum(y_ticks)\n",
        "B_org = 100*y_ticks[2]/sum(y_ticks)\n",
        "print(\"Porcentaje de ocupado de los primeros 3 Tags con mayor frecuencia B-geo %d, B-tim %d, B-org %d\"%(B_geo,B_tim,B_org))"
      ],
      "execution_count": 0,
      "outputs": [
        {
          "output_type": "stream",
          "text": [
            "Porcentaje de ocupado de los primeros 3 Tags con mayor frecuencia B-geo 23, B-tim 12, B-org 12\n"
          ],
          "name": "stdout"
        }
      ]
    },
    {
      "cell_type": "markdown",
      "metadata": {
        "id": "NWfTIhdm4PE6",
        "colab_type": "text"
      },
      "source": [
        "Los primeros 3 tags con mayor frecuencia, abarcan aproximadamente el 46% del dataset, por lo cual hay un claro sesgamiento el cual se tiene que evitar para que la red no clasfique los textos basandose exclusivamente en la frecuencia.\n",
        "\n"
      ]
    },
    {
      "cell_type": "code",
      "metadata": {
        "id": "6VBRU_b5tRh6",
        "colab_type": "code",
        "colab": {}
      },
      "source": [
        "keys_first_50 = sorted(word_frequency, key=word_frequency.get, reverse=True)[:50]\n",
        "\n",
        "keys_first_50_hash = {}\n",
        "  \n",
        "for key in keys_first_50:\n",
        "  keys_first_50_hash[key] = word_frequency[key]"
      ],
      "execution_count": 0,
      "outputs": []
    },
    {
      "cell_type": "code",
      "metadata": {
        "id": "wEW5HMO0tWzy",
        "colab_type": "code",
        "outputId": "7934880a-441a-45ac-e22f-c27b1ab4838f",
        "colab": {
          "base_uri": "https://localhost:8080/",
          "height": 484
        }
      },
      "source": [
        "plt.figure(figsize=(18,7))\n",
        "\n",
        "plt.bar(keys_first_50_hash.keys(), keys_first_50_hash.values())\n",
        "plt.xticks(rotation='vertical')\n",
        "plt.xlabel(\"Palabra\")\n",
        "plt.ylabel(\"Frecuencia\")\n",
        "plt.title(\"Frecuencias de las primera 50 palabras mas repetidas\")\n",
        "plt.show()"
      ],
      "execution_count": 0,
      "outputs": [
        {
          "output_type": "display_data",
          "data": {
            "image/png": "[encoded data removed]",
            "text/plain": [
              "<Figure size 1296x504 with 1 Axes>"
            ]
          },
          "metadata": {
            "tags": []
          }
        }
      ]
    },
    {
      "cell_type": "markdown",
      "metadata": {
        "id": "PLA5-Xrt09ip",
        "colab_type": "text"
      },
      "source": [
        "Se puede ver que dentro de las palabras más repetidas, se encuentran caracteres que no corresponden a palabras, por lo cual se procede a sacarlos del vocabulario."
      ]
    },
    {
      "cell_type": "code",
      "metadata": {
        "id": "B33FX-Oau8zU",
        "colab_type": "code",
        "colab": {}
      },
      "source": [
        "vocab = {}\n",
        "\n",
        "for word in dataset.values[:]:\n",
        "    if word[0].isalpha() and  word[0] in vocab .keys():\n",
        "      vocab [word[0]] += 1\n",
        "    elif word[0].isalpha() and  word[0] not in vocab .keys():\n",
        "      vocab [word[0]] = 1\n",
        "            \n",
        "            \n",
        "vocab_list = [(vocab [key], key) for key in vocab .keys()]\n",
        "vocab_list.sort(reverse=True)\n",
        "\n",
        "x_ticks = []\n",
        "y_ticks = []\n",
        "\n",
        "for i in range(len(vocab_list)):\n",
        "    x_ticks.append(np.log(i + 1))\n",
        "    y_ticks.append(np.log(vocab_list[i][0]))"
      ],
      "execution_count": 0,
      "outputs": []
    },
    {
      "cell_type": "code",
      "metadata": {
        "id": "wF6t7lfWvAZ7",
        "colab_type": "code",
        "outputId": "df415826-ecaa-4621-8a51-1aaef6bb6352",
        "colab": {
          "base_uri": "https://localhost:8080/",
          "height": 461
        }
      },
      "source": [
        "plt.figure(figsize=(18, 7))\n",
        "\n",
        "plt.plot(x_ticks, y_ticks)\n",
        "for i, txt in enumerate(vocab_list):\n",
        "  if i < 10:\n",
        "    plt.annotate(txt[1], (x_ticks[i], y_ticks[i]))\n",
        "plt.xticks(rotation='vertical')\n",
        "plt.xlabel(\"Palabras\")\n",
        "plt.ylabel(\"Frecuencia\")\n",
        "plt.title(\"Frecuencias de palabras\")\n",
        "\n",
        "plt.show()"
      ],
      "execution_count": 0,
      "outputs": [
        {
          "output_type": "display_data",
          "data": {
            "image/png": "[encoded data removed]",
            "text/plain": [
              "<Figure size 1296x504 with 1 Axes>"
            ]
          },
          "metadata": {
            "tags": []
          }
        }
      ]
    },
    {
      "cell_type": "markdown",
      "metadata": {
        "id": "1XdB0Bvj055i",
        "colab_type": "text"
      },
      "source": [
        "La ley ZIpfs es una ley empírica según la cual en una determinada lengua la frecuencia de aparición de distintas palabras sigue una distribución que puede aproximarse por :\n",
        "$$P_{n} \\sim \\frac{1}{n^{a}}$$\n",
        "\n",
        "donde $P_{n} $ representa la frecuencia de la n-ésima palabra más frecuente y el exponente $a$ es un número real positivo, en general ligeramente superior a 1. Esto significa que el segundo elemento se repetirá aproximadamente con una frecuencia de 1/2 de la del primero, el tercer elemento con una frecuencia de 1/3 y así sucesivamente\n",
        "\n",
        "Se puede ver que apartir aproximadamente de la palabra $and$, se empieza a cumplir la ley de Zipfs, dejanso los primeros 5 términos fuera de la ley por la cantidad de repeticiones que tuvieron dentro del conjunto.\n"
      ]
    },
    {
      "cell_type": "markdown",
      "metadata": {
        "id": "NQ4OD3RTqPsN",
        "colab_type": "text"
      },
      "source": [
        "> c) Para representar cada posible *tag* y *lemma* de modo que la red pueda manejarlo, será necesario codificarlos a un número único (*indice*) ¿Cuántos *tags* y *lemmas* distintos existen?  Comente sobre el significado del *tag* para cada *lemma*. **Finalmente mida el largo máximo de entre todas las sentencias**."
      ]
    },
    {
      "cell_type": "code",
      "metadata": {
        "id": "MqyPOeayqZZP",
        "colab_type": "code",
        "colab": {}
      },
      "source": [
        "n_labels = len(labels)\n",
        "lab2idx = {t: i for i, t in enumerate(labels)}\n",
        "dataY = [[lab2idx[ner] for ner in ner_tags ] for ner_tags in dataY_raw] #Converting tags to indexs\n",
        "n_lemmas = len(lemmas)\n",
        "lemma2idx = {w: i for i, w in enumerate(lemmas)} \n",
        "dataX = [[lemma2idx[lemma] for lemma in sentence ] for sentence in dataX_raw] #Converting text to indexs"
      ],
      "execution_count": 0,
      "outputs": []
    },
    {
      "cell_type": "code",
      "metadata": {
        "id": "3Yir4iTndtSz",
        "colab_type": "code",
        "colab": {}
      },
      "source": [
        "def total_indexes(data):\n",
        "  indexes = [set(ids) for ids in data]\n",
        "  total_index = indexes[0]\n",
        "  for index in indexes:\n",
        "    total_index = index.union(total_index)\n",
        "   \n",
        "  return total_index, len(total_index)\n",
        "\n",
        "tags_index, tags_index_quantity = total_indexes(dataY)\n",
        "text_index, text_index_quantity = total_indexes(dataX)"
      ],
      "execution_count": 0,
      "outputs": []
    },
    {
      "cell_type": "code",
      "metadata": {
        "id": "tG_dPK5Zg135",
        "colab_type": "code",
        "outputId": "08e27b0c-a922-4ea9-c253-d1b879448755",
        "colab": {
          "base_uri": "https://localhost:8080/",
          "height": 108
        }
      },
      "source": [
        "print(\"Existen %d tags distintos\" % tags_index_quantity)\n",
        "print(\"Existen %d lemmas distintos\" % text_index_quantity)\n",
        "dataset.tag.unique()"
      ],
      "execution_count": 0,
      "outputs": [
        {
          "output_type": "stream",
          "text": [
            "Existen 17 tags distintos\n",
            "Existen 12450 lemmas distintos\n"
          ],
          "name": "stdout"
        },
        {
          "output_type": "execute_result",
          "data": {
            "text/plain": [
              "array(['O', 'B-geo', 'B-gpe', 'B-per', 'I-geo', 'B-org', 'I-org', 'B-tim',\n",
              "       'B-art', 'I-art', 'I-per', 'I-gpe', 'I-tim', 'B-nat', 'B-eve',\n",
              "       'I-eve', 'I-nat'], dtype=object)"
            ]
          },
          "metadata": {
            "tags": []
          },
          "execution_count": 29
        }
      ]
    },
    {
      "cell_type": "markdown",
      "metadata": {
        "id": "oSrOPePCn_FE",
        "colab_type": "text"
      },
      "source": [
        "Existen diferentes tipos de etiques para clasificar las palabras:\n",
        "\n",
        "* geo = entidad geográfica\n",
        "* org = Organización\n",
        "* por = persona\n",
        "* gpe = entidad geopolítica\n",
        "* tim = indicador de tiempo\n",
        "* arte = artefacto\n",
        "* eve = Evento\n",
        "* nat = Fenómeno natural\n",
        "\n",
        "\n",
        "Una etiqueta O indica que un token no pertenece a ningún fragmento\n",
        "\n",
        "El prefijo I antes de una etiqueta indica que la etiqueta está dentro de un fragmento.\n",
        "\n",
        "El prefijo B antes de una etiqueta indica que la etiqueta es el comienzo de un fragmento.\n",
        "\n"
      ]
    },
    {
      "cell_type": "code",
      "metadata": {
        "id": "WrlQp-FChzQZ",
        "colab_type": "code",
        "outputId": "1e441ca3-11c6-43e6-e37b-aa1cdad35f6a",
        "colab": {
          "base_uri": "https://localhost:8080/",
          "height": 35
        }
      },
      "source": [
        "max_input_lenght = 0\n",
        "for group in dataX_raw:\n",
        "  for sentence in group:\n",
        "    if max_input_lenght < len(sentence):\n",
        "      max_input_lenght = len(sentence)\n",
        "      \n",
        "print(\"El largo máximo entre todas las sentencias es %d\" % max_input_lenght)"
      ],
      "execution_count": 0,
      "outputs": [
        {
          "output_type": "stream",
          "text": [
            "El largo máximo entre todas las sentencias es 64\n"
          ],
          "name": "stdout"
        }
      ]
    },
    {
      "cell_type": "markdown",
      "metadata": {
        "id": "ul1KOMkRqepd",
        "colab_type": "text"
      },
      "source": [
        "> d) Debido a la distinta extensión de textos se deberá **realizar *padding* para estandarizar el largo**,\n",
        "considere algun carácter especial **no presente en el vocabulario** para codificar el espacio en blanco en ambos (entrada y salida), por ejemplo si el largo máximo es de 4 y se tiene la sentencia \"the rocket\" codificada como [32,4] será necesario agregar un *lemma* que codificado significará el fin de la sentencia \"the rocket *ENDPAD ENDPAD*\" que codificado quedará como [32,4,*N, N*]. Decida, respecto al cómo funciona una red recurrente y su *memoria*, sobre qué le parece más conveniente al momento de rellenar con un valor especial ¿Al principio o al final de la sentencia? Comente"
      ]
    },
    {
      "cell_type": "code",
      "metadata": {
        "id": "Z2VI7Inhqig8",
        "colab_type": "code",
        "outputId": "d6604f5d-1a30-412a-d347-0bf988a13e5b",
        "colab": {
          "base_uri": "https://localhost:8080/",
          "height": 35
        }
      },
      "source": [
        "lemma2idx[\"-|-\"] = n_lemmas\n",
        "lab2idx[\"-|-\"] = n_labels\n",
        "n_labels +=1\n",
        "n_lemmas +=1\n",
        "from keras.preprocessing import sequence\n",
        "X = sequence.pad_sequences(dataX, maxlen=max_input_lenght,padding='pre',value=lemma2idx[\"-|-\"])\n",
        "y = sequence.pad_sequences(dataY, maxlen=max_input_lenght,padding='pre',value=lab2idx[\"-|-\"])\n",
        "del dataY[:],dataX[:]"
      ],
      "execution_count": 0,
      "outputs": [
        {
          "output_type": "stream",
          "text": [
            "Using TensorFlow backend.\n"
          ],
          "name": "stderr"
        }
      ]
    },
    {
      "cell_type": "markdown",
      "metadata": {
        "id": "jR4bNBEUX-kW",
        "colab_type": "text"
      },
      "source": [
        "La red recurrente ocupa ciclos de realimentación para mantener información durante algunos epochs a través de los datos de la salida que inscrustan(embedding) sus resultados\n",
        "en la capa de entrada, por lo que es más conveniente tener el valor especial al principo de la sentencia."
      ]
    },
    {
      "cell_type": "markdown",
      "metadata": {
        "id": "tKliXZhDqmUy",
        "colab_type": "text"
      },
      "source": [
        "> e) Para poder generar una representación adecuada sobre los datos de entrada que permita realizar operaciones lineales, deberá generar una representación a un vector denso. Para ésto se utilizará la arquitectura de autoencoder **Word2Vec** [[2]](#refs) sobre textos *raws* de largo variable, en donde el *encoder* codifica una palabra categórica (*target*) a un vector denso de dimensionalidad $d$ mientras que el *decoder* genera palabras en el contexto (*context*) de la palabra *target* (en una vecindad alrededor). La idea detrás es que palabras similares sean proyectadas a una región cercana en el espacio de *embedding* ¿Cuál es la importancia del parámetro min_count? ¿Cuántos *lemmas* ve Word2Vec?"
      ]
    },
    {
      "cell_type": "code",
      "metadata": {
        "id": "uS_fkKYiszi9",
        "colab_type": "code",
        "outputId": "4af2fbc5-f196-42b4-9c01-1cebb8f9f188",
        "colab": {
          "base_uri": "https://localhost:8080/",
          "height": 35
        }
      },
      "source": [
        "from gensim.models import Word2Vec\n",
        "EMBEDDING_DIM = 32\n",
        "window_size = 5\n",
        "nb_epoch = 5\n",
        "batch_size = 6000\n",
        "min_count = 3\n",
        "model = Word2Vec(dataX_raw,size=EMBEDDING_DIM,window=window_size,batch_words=batch_size,iter=nb_epoch,\n",
        "                 min_count=min_count, negative=5,sg=1) #sg=1 mean skip-gram\n",
        "embeddings_index = {vocab_word: model.wv[vocab_word] for vocab_word in model.wv.vocab}\n",
        "print('Cantidad de lemmas ', len(embeddings_index.keys()))"
      ],
      "execution_count": 0,
      "outputs": [
        {
          "output_type": "stream",
          "text": [
            "Cantidad de lemmas  6957\n"
          ],
          "name": "stdout"
        }
      ]
    },
    {
      "cell_type": "markdown",
      "metadata": {
        "id": "cx4eQrTHoDgz",
        "colab_type": "text"
      },
      "source": [
        "El parámetro de min_count sirve para ignorar todas las palabras con frecuencia absoluta menor que el valor del parámetro"
      ]
    },
    {
      "cell_type": "markdown",
      "metadata": {
        "id": "ZzHdNfC5s5QL",
        "colab_type": "text"
      },
      "source": [
        "Genere una matriz de *embeddings* que se utilizarán como capa neuronal.\n"
      ]
    },
    {
      "cell_type": "code",
      "metadata": {
        "id": "jkt4SiratCm1",
        "colab_type": "code",
        "colab": {}
      },
      "source": [
        "embedding_matrix = np.zeros((n_lemmas, EMBEDDING_DIM))\n",
        "for word, i in lemma2idx.items():\n",
        "    embedding_vector = embeddings_index.get(word)\n",
        "    if embedding_vector is not None: #if word does not has embedding\n",
        "        embedding_matrix[i] = embedding_vector"
      ],
      "execution_count": 0,
      "outputs": []
    },
    {
      "cell_type": "markdown",
      "metadata": {
        "id": "x-2arqbqtJJq",
        "colab_type": "text"
      },
      "source": [
        "Luego, para poder realizar una clasificación sobre los datos en la salida será necesario representarlos *one hot vectors*, esto resultará en un arreglo tridimensional."
      ]
    },
    {
      "cell_type": "code",
      "metadata": {
        "id": "kkV1vy_xf6_V",
        "colab_type": "code",
        "colab": {}
      },
      "source": [
        "from keras.utils import to_categorical\n",
        "y = np.asarray([to_categorical(i, num_classes=n_labels) for i in y])"
      ],
      "execution_count": 0,
      "outputs": []
    },
    {
      "cell_type": "markdown",
      "metadata": {
        "id": "nnwEjuNitRbA",
        "colab_type": "text"
      },
      "source": [
        "> f) Luego de esto cree los conjuntos de entrenamiento y de prueba con el código a continuación **¿Cuáles son las dimensiones de entrada y salida de cada conjunto?** Comente"
      ]
    },
    {
      "cell_type": "code",
      "metadata": {
        "id": "qjyFoziZtWiw",
        "colab_type": "code",
        "colab": {}
      },
      "source": [
        "from sklearn.model_selection import train_test_split\n",
        "X_train, X_test, y_train, y_test = train_test_split(X, y, test_size=0.3,random_state=22)"
      ],
      "execution_count": 0,
      "outputs": []
    },
    {
      "cell_type": "code",
      "metadata": {
        "id": "dpF6DdLaZUtJ",
        "colab_type": "code",
        "outputId": "4413300e-9c35-4dcc-95d4-504e868a5f35",
        "colab": {
          "base_uri": "https://localhost:8080/",
          "height": 90
        }
      },
      "source": [
        "print('Dimensiones conjunto de entrada entranamiento ', X_train.shape)\n",
        "print('Dimensiones conjunto de entrada prueba ', X_test.shape)\n",
        "print('Dimensiones conjunto de salida entranamiento ', y_train.shape)\n",
        "print('Dimensiones conjunto de salida prueba ', y_test.shape)"
      ],
      "execution_count": 0,
      "outputs": [
        {
          "output_type": "stream",
          "text": [
            "Dimensiones conjunto de entrada entranamiento  (16030, 64)\n",
            "Dimensiones conjunto de entrada prueba  (6871, 64)\n",
            "Dimensiones conjunto de salida entranamiento  (16030, 64, 18)\n",
            "Dimensiones conjunto de salida prueba  (6871, 64, 18)\n"
          ],
          "name": "stdout"
        }
      ]
    },
    {
      "cell_type": "markdown",
      "metadata": {
        "id": "Gvem1iP4t3lH",
        "colab_type": "text"
      },
      "source": [
        "> g) Defina una red neuronal recurrente *many to many* con compuertas LSTM para aprender a *tagear* la entidad en el texto. Esta red debe procesar la secuencia de *lemmas* rellenados (o sin rellenar) y entregar el *tag* a cada uno de los *lemmas*, por lo que la salida de la red es una por cada instante de tiempo que se necesita entregar un *output*. La primera capa de la red a construir debe tener los vectores de *embedding* encontrados por **Word2Vec**. **Comente sobre los cambios que sufre un dato al ingresar a la red y la cantidad de parámetros de la red**. Entrene y luego evalúe su desempeño sobre ambos conjuntos. "
      ]
    },
    {
      "cell_type": "code",
      "metadata": {
        "id": "7pOrTz4x7eQp",
        "colab_type": "code",
        "colab": {}
      },
      "source": [
        "import matplotlib.pyplot as plt\n",
        "def plot_model_losses(resume): \n",
        "  plt.figure(figsize=(15, 7))\n",
        "  plt.plot(resume.history['loss'])\n",
        "  plt.plot(resume.history['val_loss'])\n",
        "  plt.xlabel(\"Epoch\")\n",
        "  plt.ylabel(\"Loss\") \n",
        "  plt.legend([\"Train Loss\", \"Val Loss\"], loc=\"upper right\")\n",
        "  plt.title(\"Sets Losses\")\n",
        "  plt.show()\n",
        "  \n",
        "  print(\"Final Train Loss:\",resume.history['loss'][-1])\n",
        "  print(\"Val loss:\",min(resume.history['val_loss']))"
      ],
      "execution_count": 0,
      "outputs": []
    },
    {
      "cell_type": "code",
      "metadata": {
        "id": "kOdeJgCGt7Ov",
        "colab_type": "code",
        "outputId": "fcd5ef6e-e181-4321-ece0-11ee345cd41f",
        "colab": {
          "base_uri": "https://localhost:8080/",
          "height": 853
        }
      },
      "source": [
        "from keras.models import Sequential\n",
        "from keras.layers import LSTM, Embedding, Dense, Dropout,TimeDistributed\n",
        "model_LSTM = Sequential()\n",
        "model_LSTM.add(Embedding(input_dim=n_lemmas, output_dim=EMBEDDING_DIM, input_length=max_input_lenght,\n",
        "                    trainable=False, weights = [embedding_matrix]))\n",
        "model_LSTM.add(LSTM(units=100,return_sequences=True))\n",
        "model_LSTM.add(Dropout(0.2))\n",
        "model_LSTM.add(TimeDistributed(Dense(n_labels, activation='softmax')))\n",
        "model_LSTM.summary()\n",
        "model_LSTM.compile(loss='categorical_crossentropy', optimizer='adam')\n",
        "resume = model_LSTM.fit(X_train, y_train, validation_data=(X_test, y_test), epochs=15, batch_size=128)"
      ],
      "execution_count": 0,
      "outputs": [
        {
          "output_type": "stream",
          "text": [
            "_________________________________________________________________\n",
            "Layer (type)                 Output Shape              Param #   \n",
            "=================================================================\n",
            "embedding_5 (Embedding)      (None, 64, 32)            398432    \n",
            "_________________________________________________________________\n",
            "lstm_4 (LSTM)                (None, 64, 100)           53200     \n",
            "_________________________________________________________________\n",
            "dropout_5 (Dropout)          (None, 64, 100)           0         \n",
            "_________________________________________________________________\n",
            "time_distributed_5 (TimeDist (None, 64, 18)            1818      \n",
            "=================================================================\n",
            "Total params: 453,450\n",
            "Trainable params: 55,018\n",
            "Non-trainable params: 398,432\n",
            "_________________________________________________________________\n",
            "Train on 16030 samples, validate on 6871 samples\n",
            "Epoch 1/15\n",
            "16030/16030 [==============================] - 14s 879us/step - loss: 0.8942 - val_loss: 0.3813\n",
            "Epoch 2/15\n",
            "16030/16030 [==============================] - 13s 824us/step - loss: 0.3372 - val_loss: 0.2933\n",
            "Epoch 3/15\n",
            "16030/16030 [==============================] - 13s 805us/step - loss: 0.2694 - val_loss: 0.2406\n",
            "Epoch 4/15\n",
            "16030/16030 [==============================] - 13s 799us/step - loss: 0.2242 - val_loss: 0.2018\n",
            "Epoch 5/15\n",
            "16030/16030 [==============================] - 13s 803us/step - loss: 0.1914 - val_loss: 0.1744\n",
            "Epoch 6/15\n",
            "16030/16030 [==============================] - 13s 804us/step - loss: 0.1697 - val_loss: 0.1578\n",
            "Epoch 7/15\n",
            "16030/16030 [==============================] - 13s 816us/step - loss: 0.1550 - val_loss: 0.1451\n",
            "Epoch 8/15\n",
            "16030/16030 [==============================] - 13s 830us/step - loss: 0.1443 - val_loss: 0.1362\n",
            "Epoch 9/15\n",
            "16030/16030 [==============================] - 13s 803us/step - loss: 0.1357 - val_loss: 0.1277\n",
            "Epoch 10/15\n",
            "16030/16030 [==============================] - 13s 803us/step - loss: 0.1287 - val_loss: 0.1210\n",
            "Epoch 11/15\n",
            "16030/16030 [==============================] - 13s 806us/step - loss: 0.1227 - val_loss: 0.1160\n",
            "Epoch 12/15\n",
            "16030/16030 [==============================] - 13s 803us/step - loss: 0.1178 - val_loss: 0.1114\n",
            "Epoch 13/15\n",
            "16030/16030 [==============================] - 13s 812us/step - loss: 0.1138 - val_loss: 0.1078\n",
            "Epoch 14/15\n",
            "16030/16030 [==============================] - 13s 806us/step - loss: 0.1104 - val_loss: 0.1047\n",
            "Epoch 15/15\n",
            "16030/16030 [==============================] - 13s 822us/step - loss: 0.1077 - val_loss: 0.1027\n"
          ],
          "name": "stdout"
        }
      ]
    },
    {
      "cell_type": "code",
      "metadata": {
        "id": "FoT6APOI78DI",
        "colab_type": "code",
        "outputId": "1c2bcdc9-6665-4be3-82f1-a27002052cca",
        "colab": {
          "base_uri": "https://localhost:8080/",
          "height": 494
        }
      },
      "source": [
        "plot_model_losses(resume)"
      ],
      "execution_count": 0,
      "outputs": [
        {
          "output_type": "display_data",
          "data": {
            "image/png": "[encoded data removed]",
            "text/plain": [
              "<Figure size 1080x504 with 1 Axes>"
            ]
          },
          "metadata": {
            "tags": []
          }
        },
        {
          "output_type": "stream",
          "text": [
            "Final Train Loss: 0.10997347007188958\n",
            "Val loss: 0.1037519976492359\n"
          ],
          "name": "stdout"
        }
      ]
    },
    {
      "cell_type": "markdown",
      "metadata": {
        "id": "4g91z9epuCb2",
        "colab_type": "text"
      },
      "source": [
        "Para evaluar su modelo utilice una métrica adecuada para el desbalance presente entre las clases como identificó en el punto b). Tenga presente en este punto el **no evaluar** la clase/símbolo que añadió para realizar *padding* a los *tag*.  \n",
        "*Hint: podría \"truncar\" la salida predicha hasta el largo real de esa sentencia*"
      ]
    },
    {
      "cell_type": "code",
      "metadata": {
        "id": "OsHeXFvRs8SZ",
        "colab_type": "code",
        "colab": {}
      },
      "source": [
        "def truncate_predicted_output(model, X_test, y_test):\n",
        "  dataY_pred = model.predict_classes(X_test,verbose=0)\n",
        "  dataY_pred_truncated = []\n",
        "  y_test_transformed = []\n",
        "  y_test_two = []\n",
        "  \n",
        "  for example in y_test:\n",
        "      y_test_transformed.append([np.argmax(y, axis=None, out=None) for y in example])\n",
        "\n",
        "  sentence_index = 0\n",
        "  for sentence in X_test:\n",
        "    word_index = 0\n",
        "    for word in sentence:\n",
        "      if word+1 == lemma2idx[\"-|-\"]:\n",
        "        y_test_two.append(y_test_transformed[sentence_index][:word_index])\n",
        "        dataY_pred_truncated.append(dataY_pred[sentence_index][:word_index])\n",
        "        break\n",
        "      word_index += 1\n",
        "    sentence_index += 1\n",
        "    \n",
        "  return dataY_pred_truncated, y_test_two"
      ],
      "execution_count": 0,
      "outputs": []
    },
    {
      "cell_type": "code",
      "metadata": {
        "id": "Y20C1vxFtBTN",
        "colab_type": "code",
        "colab": {}
      },
      "source": [
        "y_pred, y_test_two = truncate_predicted_output(model_LSTM, X_test, y_test)\n",
        "dataY_pred = model_LSTM.predict_classes(X_test,verbose=0) #process... to remove prediction on \"endtagger\" symbol\n",
        "dataY = y_test.argmax(axis = 2)"
      ],
      "execution_count": 0,
      "outputs": []
    },
    {
      "cell_type": "code",
      "metadata": {
        "id": "WTVYQZHatMBB",
        "colab_type": "code",
        "outputId": "6e006cc0-4ab8-491d-adef-5248dfafb977",
        "colab": {
          "base_uri": "https://localhost:8080/",
          "height": 72
        }
      },
      "source": [
        "from sklearn.metrics import f1_score\n",
        "f1_score_bydata_normal = [f1_score(true, pred ,average='weighted') for true,pred in zip(dataY,dataY_pred) ]\n",
        "f1_score_bydata_lstm = [f1_score(true, pred ,average='weighted') for true,pred in zip(y_test_two,y_pred) ]\n",
        "print(\"F1 score on test: \", np.mean(f1_score_bydata_normal) )\n",
        "print(\"\\nF1 score on test truncated pred LSTM: \", np.mean(f1_score_bydata_lstm) )\n"
      ],
      "execution_count": 0,
      "outputs": [
        {
          "output_type": "stream",
          "text": [
            "F1 score on test:  0.9646954482497682\n",
            "\n",
            "F1 score on test truncated pred LSTM:  0.977504508983949\n"
          ],
          "name": "stdout"
        }
      ]
    },
    {
      "cell_type": "markdown",
      "metadata": {
        "id": "tHsJPdYeuOFQ",
        "colab_type": "text"
      },
      "source": [
        "> h) Varíe con seguir entrenando la capa de embedding seteada al definir la arquitectura, ésto es cambiar a *trainable=True*, compare el desempeño y el número de parámetros (entrenables) con lo anterior. Comente"
      ]
    },
    {
      "cell_type": "code",
      "metadata": {
        "id": "cthdxqMUmHpl",
        "colab_type": "code",
        "outputId": "4c037a68-8ce6-4cbf-f436-4ba33740b76a",
        "colab": {
          "base_uri": "https://localhost:8080/",
          "height": 853
        }
      },
      "source": [
        "from keras.models import Sequential\n",
        "from keras.layers import LSTM, Embedding, Dense, Dropout,TimeDistributed\n",
        "model_LSTM_T = Sequential()\n",
        "model_LSTM_T.add(Embedding(input_dim=n_lemmas, output_dim=EMBEDDING_DIM, input_length=max_input_lenght,\n",
        "                    trainable=True, weights = [embedding_matrix]))\n",
        "model_LSTM_T.add(LSTM(units=100,return_sequences=True))\n",
        "model_LSTM_T.add(Dropout(0.2))\n",
        "model_LSTM_T.add(TimeDistributed(Dense(n_labels, activation='softmax')))\n",
        "model_LSTM_T.summary()\n",
        "model_LSTM_T.compile(loss='categorical_crossentropy', optimizer='adam')\n",
        "resume = model_LSTM_T.fit(X_train, y_train, validation_data=(X_test, y_test), epochs=15, batch_size=128)"
      ],
      "execution_count": 0,
      "outputs": [
        {
          "output_type": "stream",
          "text": [
            "_________________________________________________________________\n",
            "Layer (type)                 Output Shape              Param #   \n",
            "=================================================================\n",
            "embedding_6 (Embedding)      (None, 64, 32)            398432    \n",
            "_________________________________________________________________\n",
            "lstm_5 (LSTM)                (None, 64, 100)           53200     \n",
            "_________________________________________________________________\n",
            "dropout_6 (Dropout)          (None, 64, 100)           0         \n",
            "_________________________________________________________________\n",
            "time_distributed_6 (TimeDist (None, 64, 18)            1818      \n",
            "=================================================================\n",
            "Total params: 453,450\n",
            "Trainable params: 453,450\n",
            "Non-trainable params: 0\n",
            "_________________________________________________________________\n",
            "Train on 16030 samples, validate on 6871 samples\n",
            "Epoch 1/15\n",
            "16030/16030 [==============================] - 15s 920us/step - loss: 0.8173 - val_loss: 0.3251\n",
            "Epoch 2/15\n",
            "16030/16030 [==============================] - 14s 844us/step - loss: 0.2733 - val_loss: 0.2127\n",
            "Epoch 3/15\n",
            "16030/16030 [==============================] - 13s 827us/step - loss: 0.1735 - val_loss: 0.1366\n",
            "Epoch 4/15\n",
            "16030/16030 [==============================] - 13s 829us/step - loss: 0.1170 - val_loss: 0.0984\n",
            "Epoch 5/15\n",
            "16030/16030 [==============================] - 14s 847us/step - loss: 0.0876 - val_loss: 0.0789\n",
            "Epoch 6/15\n",
            "16030/16030 [==============================] - 13s 829us/step - loss: 0.0722 - val_loss: 0.0689\n",
            "Epoch 7/15\n",
            "16030/16030 [==============================] - 13s 830us/step - loss: 0.0634 - val_loss: 0.0629\n",
            "Epoch 8/15\n",
            "16030/16030 [==============================] - 13s 828us/step - loss: 0.0579 - val_loss: 0.0590\n",
            "Epoch 9/15\n",
            "16030/16030 [==============================] - 13s 828us/step - loss: 0.0538 - val_loss: 0.0563\n",
            "Epoch 10/15\n",
            "16030/16030 [==============================] - 13s 830us/step - loss: 0.0506 - val_loss: 0.0542\n",
            "Epoch 11/15\n",
            "16030/16030 [==============================] - 13s 832us/step - loss: 0.0479 - val_loss: 0.0528\n",
            "Epoch 12/15\n",
            "16030/16030 [==============================] - 14s 857us/step - loss: 0.0456 - val_loss: 0.0517\n",
            "Epoch 13/15\n",
            "16030/16030 [==============================] - 13s 837us/step - loss: 0.0437 - val_loss: 0.0504\n",
            "Epoch 14/15\n",
            "16030/16030 [==============================] - 13s 831us/step - loss: 0.0419 - val_loss: 0.0492\n",
            "Epoch 15/15\n",
            "16030/16030 [==============================] - 13s 825us/step - loss: 0.0401 - val_loss: 0.0490\n"
          ],
          "name": "stdout"
        }
      ]
    },
    {
      "cell_type": "code",
      "metadata": {
        "id": "_FliO50oAbK4",
        "colab_type": "code",
        "outputId": "371893b8-ae91-45e3-eb5e-cc64b79db369",
        "colab": {
          "base_uri": "https://localhost:8080/",
          "height": 494
        }
      },
      "source": [
        "plot_model_losses(resume)"
      ],
      "execution_count": 0,
      "outputs": [
        {
          "output_type": "display_data",
          "data": {
            "image/png": "[encoded data removed]",
            "text/plain": [
              "<Figure size 1080x504 with 1 Axes>"
            ]
          },
          "metadata": {
            "tags": []
          }
        },
        {
          "output_type": "stream",
          "text": [
            "Final Train Loss: 0.04082421561701924\n",
            "Val loss: 0.04876881462713375\n"
          ],
          "name": "stdout"
        }
      ]
    },
    {
      "cell_type": "markdown",
      "metadata": {
        "id": "IKikXv7KuRVN",
        "colab_type": "text"
      },
      "source": [
        "> i) Experimente con cambiar la *gate* de recurrencia a una con menos parámetros pero que mantiene la capacidad de memoria de la LSTM, ésta es la compuerta GRU. Comente sobre los resultados esperados y observados."
      ]
    },
    {
      "cell_type": "code",
      "metadata": {
        "id": "ICrKgahaui4b",
        "colab_type": "code",
        "outputId": "0554cbfd-3935-49eb-f5d3-90e78b4221d9",
        "colab": {
          "base_uri": "https://localhost:8080/",
          "height": 853
        }
      },
      "source": [
        "from keras.layers import GRU\n",
        "model = Sequential()\n",
        "model.add(Embedding(input_dim=n_lemmas, output_dim=EMBEDDING_DIM, input_length=max_input_lenght,\n",
        "                    trainable=True, weights = [embedding_matrix]))\n",
        "model.add(GRU(units=100,return_sequences=True))\n",
        "model.add(Dropout(0.2))\n",
        "model.add(TimeDistributed(Dense(n_labels, activation='softmax')))\n",
        "model.summary()\n",
        "model.compile(loss='categorical_crossentropy', optimizer='adam')\n",
        "resume = model.fit(X_train, y_train, validation_data=(X_test, y_test), epochs=15, batch_size=128)                                                    "
      ],
      "execution_count": 0,
      "outputs": [
        {
          "output_type": "stream",
          "text": [
            "_________________________________________________________________\n",
            "Layer (type)                 Output Shape              Param #   \n",
            "=================================================================\n",
            "embedding_3 (Embedding)      (None, 64, 32)            398432    \n",
            "_________________________________________________________________\n",
            "gru_1 (GRU)                  (None, 64, 100)           39900     \n",
            "_________________________________________________________________\n",
            "dropout_3 (Dropout)          (None, 64, 100)           0         \n",
            "_________________________________________________________________\n",
            "time_distributed_3 (TimeDist (None, 64, 18)            1818      \n",
            "=================================================================\n",
            "Total params: 440,150\n",
            "Trainable params: 440,150\n",
            "Non-trainable params: 0\n",
            "_________________________________________________________________\n",
            "Train on 16030 samples, validate on 6871 samples\n",
            "Epoch 1/15\n",
            "16030/16030 [==============================] - 12s 761us/step - loss: 0.8226 - val_loss: 0.2608\n",
            "Epoch 2/15\n",
            "16030/16030 [==============================] - 11s 704us/step - loss: 0.2058 - val_loss: 0.1520\n",
            "Epoch 3/15\n",
            "16030/16030 [==============================] - 12s 727us/step - loss: 0.1237 - val_loss: 0.1007\n",
            "Epoch 4/15\n",
            "16030/16030 [==============================] - 12s 728us/step - loss: 0.0871 - val_loss: 0.0788\n",
            "Epoch 5/15\n",
            "16030/16030 [==============================] - 11s 704us/step - loss: 0.0703 - val_loss: 0.0681\n",
            "Epoch 6/15\n",
            "16030/16030 [==============================] - 11s 709us/step - loss: 0.0609 - val_loss: 0.0617\n",
            "Epoch 7/15\n",
            "16030/16030 [==============================] - 11s 709us/step - loss: 0.0546 - val_loss: 0.0576\n",
            "Epoch 8/15\n",
            "16030/16030 [==============================] - 11s 704us/step - loss: 0.0500 - val_loss: 0.0546\n",
            "Epoch 9/15\n",
            "16030/16030 [==============================] - 11s 710us/step - loss: 0.0467 - val_loss: 0.0522\n",
            "Epoch 10/15\n",
            "16030/16030 [==============================] - 11s 713us/step - loss: 0.0437 - val_loss: 0.0508\n",
            "Epoch 11/15\n",
            "16030/16030 [==============================] - 11s 715us/step - loss: 0.0413 - val_loss: 0.0494\n",
            "Epoch 12/15\n",
            "16030/16030 [==============================] - 12s 729us/step - loss: 0.0394 - val_loss: 0.0492\n",
            "Epoch 13/15\n",
            "16030/16030 [==============================] - 11s 708us/step - loss: 0.0375 - val_loss: 0.0477\n",
            "Epoch 14/15\n",
            "16030/16030 [==============================] - 11s 706us/step - loss: 0.0357 - val_loss: 0.0468\n",
            "Epoch 15/15\n",
            "16030/16030 [==============================] - 11s 708us/step - loss: 0.0342 - val_loss: 0.0464\n"
          ],
          "name": "stdout"
        }
      ]
    },
    {
      "cell_type": "code",
      "metadata": {
        "id": "EBdUZ00cAcgP",
        "colab_type": "code",
        "outputId": "4f1091be-8106-4803-8e59-32e5e398f957",
        "colab": {
          "base_uri": "https://localhost:8080/",
          "height": 494
        }
      },
      "source": [
        "plot_model_losses(resume)"
      ],
      "execution_count": 0,
      "outputs": [
        {
          "output_type": "display_data",
          "data": {
            "image/png": "[encoded data removed]",
            "text/plain": [
              "<Figure size 1080x504 with 1 Axes>"
            ]
          },
          "metadata": {
            "tags": []
          }
        },
        {
          "output_type": "stream",
          "text": [
            "Final Train Loss: 0.03416724751842297\n",
            "Val loss: 0.046432609252253225\n"
          ],
          "name": "stdout"
        }
      ]
    },
    {
      "cell_type": "code",
      "metadata": {
        "id": "MKjNfCkvzdnY",
        "colab_type": "code",
        "outputId": "9a93c6bd-8751-43e7-b70a-af6674e46310",
        "colab": {
          "base_uri": "https://localhost:8080/",
          "height": 108
        }
      },
      "source": [
        "y_pred, y_test_two = truncate_predicted_output(model_LSTM_T, X_test, y_test)\n",
        "\n",
        "f1_score_bydata_lstm_t = [f1_score(true, pred ,average='weighted') for true,pred in zip(y_test_two,y_pred) ]\n",
        "print(\"F1 score on test: \", np.mean(f1_score_bydata_normal) )\n",
        "print(\"\\nF1 score on test truncated pred LSTM: \", np.mean(f1_score_bydata_lstm) )\n",
        "print(\"\\nF1 score on test truncated pred LSTM Trained: \", np.mean(f1_score_bydata_lstm_t) )\n"
      ],
      "execution_count": 0,
      "outputs": [
        {
          "output_type": "stream",
          "text": [
            "F1 score on test:  0.9646954482497682\n",
            "\n",
            "F1 score on test truncated pred LSTM:  0.977504508983949\n",
            "\n",
            "F1 score on test truncated pred LSTM Trained:  0.9900195369786975\n"
          ],
          "name": "stdout"
        }
      ]
    },
    {
      "cell_type": "markdown",
      "metadata": {
        "id": "JFym2zcDunqQ",
        "colab_type": "text"
      },
      "source": [
        "\n",
        "> j) Algunos autores señalan la importante dependencia que existe en texto, no solo con las palabras anteriores, sino que con las que siguen. Mejore la red utilizando una red neuronal recurrente Bidireccional, es decir, con recurrencia en ambas direcciones sobre la secuencia de *lemmas*. Comente cuál debiera ser la forma correcta de usar el parámetro merge_mode (concatenar, multiplicar, sumar o promediar) para este caso. Además comente las transformaciones que sufre el patrón de entrada al pasar por las capas. ¿Mejora o empeora el desempeño? Analice."
      ]
    },
    {
      "cell_type": "code",
      "metadata": {
        "id": "Vm1_Mglhuq2t",
        "colab_type": "code",
        "outputId": "fd99e61f-2a38-4206-a79a-cb0dda50780c",
        "colab": {
          "base_uri": "https://localhost:8080/",
          "height": 853
        }
      },
      "source": [
        "from keras.layers import Bidirectional\n",
        "model_BI = Sequential()\n",
        "model_BI.add(Embedding(input_dim=n_lemmas, output_dim=EMBEDDING_DIM, input_length=max_input_lenght,\n",
        "                    trainable=False, weights = [embedding_matrix]))\n",
        "gate_layer = LSTM(units=100,return_sequences=True)\n",
        "model_BI.add(Bidirectional(gate_layer, merge_mode='concat'))\n",
        "model_BI.add(Dropout(0.2))\n",
        "model_BI.add(TimeDistributed(Dense(n_labels, activation='softmax')))\n",
        "model_BI.compile(loss='categorical_crossentropy', optimizer='adam')\n",
        "model_BI.summary()\n",
        "resume = model_BI.fit(X_train, y_train, validation_data=(X_test, y_test), epochs=15, batch_size=128)  "
      ],
      "execution_count": 0,
      "outputs": [
        {
          "output_type": "stream",
          "text": [
            "_________________________________________________________________\n",
            "Layer (type)                 Output Shape              Param #   \n",
            "=================================================================\n",
            "embedding_9 (Embedding)      (None, 64, 32)            398432    \n",
            "_________________________________________________________________\n",
            "bidirectional_4 (Bidirection (None, 64, 200)           106400    \n",
            "_________________________________________________________________\n",
            "dropout_9 (Dropout)          (None, 64, 200)           0         \n",
            "_________________________________________________________________\n",
            "time_distributed_9 (TimeDist (None, 64, 18)            3618      \n",
            "=================================================================\n",
            "Total params: 508,450\n",
            "Trainable params: 110,018\n",
            "Non-trainable params: 398,432\n",
            "_________________________________________________________________\n",
            "Train on 16030 samples, validate on 6871 samples\n",
            "Epoch 1/15\n",
            "16030/16030 [==============================] - 30s 2ms/step - loss: 0.5412 - val_loss: 0.2348\n",
            "Epoch 2/15\n",
            "16030/16030 [==============================] - 28s 2ms/step - loss: 0.2120 - val_loss: 0.1842\n",
            "Epoch 3/15\n",
            "16030/16030 [==============================] - 28s 2ms/step - loss: 0.1687 - val_loss: 0.1484\n",
            "Epoch 4/15\n",
            "16030/16030 [==============================] - 28s 2ms/step - loss: 0.1412 - val_loss: 0.1297\n",
            "Epoch 5/15\n",
            "16030/16030 [==============================] - 28s 2ms/step - loss: 0.1275 - val_loss: 0.1196\n",
            "Epoch 6/15\n",
            "16030/16030 [==============================] - 28s 2ms/step - loss: 0.1191 - val_loss: 0.1135\n",
            "Epoch 7/15\n",
            "16030/16030 [==============================] - 28s 2ms/step - loss: 0.1132 - val_loss: 0.1077\n",
            "Epoch 8/15\n",
            "16030/16030 [==============================] - 27s 2ms/step - loss: 0.1086 - val_loss: 0.1038\n",
            "Epoch 9/15\n",
            "16030/16030 [==============================] - 28s 2ms/step - loss: 0.1046 - val_loss: 0.1006\n",
            "Epoch 10/15\n",
            "16030/16030 [==============================] - 28s 2ms/step - loss: 0.1012 - val_loss: 0.0973\n",
            "Epoch 11/15\n",
            "16030/16030 [==============================] - 27s 2ms/step - loss: 0.0982 - val_loss: 0.0944\n",
            "Epoch 12/15\n",
            "16030/16030 [==============================] - 27s 2ms/step - loss: 0.0955 - val_loss: 0.0918\n",
            "Epoch 13/15\n",
            "16030/16030 [==============================] - 28s 2ms/step - loss: 0.0928 - val_loss: 0.0907\n",
            "Epoch 14/15\n",
            "16030/16030 [==============================] - 27s 2ms/step - loss: 0.0907 - val_loss: 0.0873\n",
            "Epoch 15/15\n",
            "16030/16030 [==============================] - 27s 2ms/step - loss: 0.0885 - val_loss: 0.0859\n"
          ],
          "name": "stdout"
        }
      ]
    },
    {
      "cell_type": "code",
      "metadata": {
        "id": "J3Wfo8FpAfkH",
        "colab_type": "code",
        "outputId": "e9974fea-e746-4ef1-cca7-b308d6757204",
        "colab": {
          "base_uri": "https://localhost:8080/",
          "height": 494
        }
      },
      "source": [
        "plot_model_losses(resume)"
      ],
      "execution_count": 0,
      "outputs": [
        {
          "output_type": "display_data",
          "data": {
            "image/png": "[encoded data removed]",
            "text/plain": [
              "<Figure size 1080x504 with 1 Axes>"
            ]
          },
          "metadata": {
            "tags": []
          }
        },
        {
          "output_type": "stream",
          "text": [
            "Final Train Loss: 0.08854416119572675\n",
            "Val loss: 0.0859419239847321\n"
          ],
          "name": "stdout"
        }
      ]
    },
    {
      "cell_type": "code",
      "metadata": {
        "id": "khUHIQvt0Vol",
        "colab_type": "code",
        "outputId": "9ba4cd03-8652-4352-83ad-6307b641e824",
        "colab": {
          "base_uri": "https://localhost:8080/",
          "height": 144
        }
      },
      "source": [
        "y_pred, y_test_two = truncate_predicted_output(model_BI, X_test, y_test)\n",
        "\n",
        "f1_score_bydata_bi = [f1_score(true, pred ,average='weighted') for true,pred in zip(y_test_two,y_pred) ]\n",
        "print(\"F1 score on test: \", np.mean(f1_score_bydata_normal) )\n",
        "print(\"\\nF1 score on test truncated pred LSTM: \", np.mean(f1_score_bydata_lstm) )\n",
        "print(\"\\nF1 score on test truncated pred LSTM Trained: \", np.mean(f1_score_bydata_lstm_t) )\n",
        "print(\"\\nF1 score on test truncated pred BI: \", np.mean(f1_score_bydata_bi) )\n"
      ],
      "execution_count": 0,
      "outputs": [
        {
          "output_type": "stream",
          "text": [
            "F1 score on test:  0.9646954482497682\n",
            "\n",
            "F1 score on test truncated pred LSTM:  0.977504508983949\n",
            "\n",
            "F1 score on test truncated pred LSTM Trained:  0.9900195369786975\n",
            "\n",
            "F1 score on test truncated pred BI:  0.9820812893300784\n"
          ],
          "name": "stdout"
        }
      ]
    },
    {
      "cell_type": "markdown",
      "metadata": {
        "id": "Gpu0-EkTu2W2",
        "colab_type": "text"
      },
      "source": [
        "> k) En base a lo experimentado, **mejore el desempeño de las redes encontradas**, ya sea utilizando y/o combinando las distintas variaciones que se hicieron en los distintos ítemes, como bien alguna mejora en el pre-proceso de los datos (largo de secuencia, el tipo de *padding* o alguna otra), agregar mayor profundidad, variar el número de unidades/neuronas, utilizando otra *gate* de recurrencia (en https://keras.io/layers/recurrent/), cambiar los vectores de *embedding* por unos entrenados en otros dataset más grandes (https://nlp.stanford.edu/projects/glove/), entre otros."
      ]
    },
    {
      "cell_type": "code",
      "metadata": {
        "id": "tRtjCKph19KN",
        "colab_type": "code",
        "outputId": "99590775-39d5-4842-86b9-1a1d0abc047b",
        "colab": {
          "base_uri": "https://localhost:8080/",
          "height": 853
        }
      },
      "source": [
        "from keras.layers import Bidirectional, SimpleRNN\n",
        "model_BI_2 = Sequential()\n",
        "model_BI_2.add(Embedding(input_dim=n_lemmas, output_dim=EMBEDDING_DIM, input_length=max_input_lenght,\n",
        "                    trainable=False, weights = [embedding_matrix]))\n",
        "gate_layer = SimpleRNN(units=100,return_sequences=True)\n",
        "model_BI_2.add(Bidirectional(gate_layer, merge_mode='concat'))\n",
        "model_BI_2.add(Dropout(0.2))\n",
        "model_BI_2.add(TimeDistributed(Dense(n_labels, activation='softmax')))\n",
        "model_BI_2.compile(loss='categorical_crossentropy', optimizer='adam')\n",
        "model_BI_2.summary()\n",
        "resume = model_BI_2.fit(X_train, y_train, validation_data=(X_test, y_test), epochs=15, batch_size=128)  "
      ],
      "execution_count": 0,
      "outputs": [
        {
          "output_type": "stream",
          "text": [
            "_________________________________________________________________\n",
            "Layer (type)                 Output Shape              Param #   \n",
            "=================================================================\n",
            "embedding_14 (Embedding)     (None, 64, 32)            398432    \n",
            "_________________________________________________________________\n",
            "bidirectional_6 (Bidirection (None, 64, 200)           26600     \n",
            "_________________________________________________________________\n",
            "dropout_10 (Dropout)         (None, 64, 200)           0         \n",
            "_________________________________________________________________\n",
            "time_distributed_10 (TimeDis (None, 64, 18)            3618      \n",
            "=================================================================\n",
            "Total params: 428,650\n",
            "Trainable params: 30,218\n",
            "Non-trainable params: 398,432\n",
            "_________________________________________________________________\n",
            "Train on 16030 samples, validate on 6871 samples\n",
            "Epoch 1/15\n",
            "16030/16030 [==============================] - 10s 641us/step - loss: 0.3969 - val_loss: 0.2053\n",
            "Epoch 2/15\n",
            "16030/16030 [==============================] - 9s 539us/step - loss: 0.1836 - val_loss: 0.1563\n",
            "Epoch 3/15\n",
            "16030/16030 [==============================] - 9s 536us/step - loss: 0.1487 - val_loss: 0.1351\n",
            "Epoch 4/15\n",
            "16030/16030 [==============================] - 9s 535us/step - loss: 0.1326 - val_loss: 0.1238\n",
            "Epoch 5/15\n",
            "16030/16030 [==============================] - 9s 542us/step - loss: 0.1244 - val_loss: 0.1176\n",
            "Epoch 6/15\n",
            "16030/16030 [==============================] - 9s 544us/step - loss: 0.1193 - val_loss: 0.1136\n",
            "Epoch 7/15\n",
            "16030/16030 [==============================] - 9s 540us/step - loss: 0.1152 - val_loss: 0.1108\n",
            "Epoch 8/15\n",
            "16030/16030 [==============================] - 9s 539us/step - loss: 0.1124 - val_loss: 0.1085\n",
            "Epoch 9/15\n",
            "16030/16030 [==============================] - 9s 536us/step - loss: 0.1103 - val_loss: 0.1062\n",
            "Epoch 10/15\n",
            "16030/16030 [==============================] - 9s 547us/step - loss: 0.1084 - val_loss: 0.1050\n",
            "Epoch 11/15\n",
            "16030/16030 [==============================] - 9s 561us/step - loss: 0.1065 - val_loss: 0.1027\n",
            "Epoch 12/15\n",
            "16030/16030 [==============================] - 9s 541us/step - loss: 0.1047 - val_loss: 0.1023\n",
            "Epoch 13/15\n",
            "16030/16030 [==============================] - 9s 539us/step - loss: 0.1040 - val_loss: 0.0998\n",
            "Epoch 14/15\n",
            "16030/16030 [==============================] - 9s 535us/step - loss: 0.1020 - val_loss: 0.0994\n",
            "Epoch 15/15\n",
            "16030/16030 [==============================] - 9s 540us/step - loss: 0.1005 - val_loss: 0.0984\n"
          ],
          "name": "stdout"
        }
      ]
    },
    {
      "cell_type": "code",
      "metadata": {
        "id": "027iqMbH4Z2f",
        "colab_type": "code",
        "outputId": "0c9655d1-aeb8-4841-92b9-aaac3facac28",
        "colab": {
          "base_uri": "https://localhost:8080/",
          "height": 494
        }
      },
      "source": [
        "plot_model_losses(resume)"
      ],
      "execution_count": 0,
      "outputs": [
        {
          "output_type": "display_data",
          "data": {
            "image/png": "[encoded data removed]",
            "text/plain": [
              "<Figure size 1080x504 with 1 Axes>"
            ]
          },
          "metadata": {
            "tags": []
          }
        },
        {
          "output_type": "stream",
          "text": [
            "Final Train Loss: 0.10049398699757908\n",
            "Val loss: 0.09841390859849102\n"
          ],
          "name": "stdout"
        }
      ]
    },
    {
      "cell_type": "code",
      "metadata": {
        "id": "6TmBzX9H4aZe",
        "colab_type": "code",
        "outputId": "fc01afd5-665b-43d8-bc14-35308327798e",
        "colab": {
          "base_uri": "https://localhost:8080/",
          "height": 181
        }
      },
      "source": [
        "y_pred, y_test_two = truncate_predicted_output(model_BI_2, X_test, y_test)\n",
        "\n",
        "f1_score_bydata_bi_two = [f1_score(true, pred ,average='weighted') for true,pred in zip(y_test_two,y_pred) ]\n",
        "print(\"F1 score on test: \", np.mean(f1_score_bydata_normal) )\n",
        "print(\"\\nF1 score on test truncated pred LSTM: \", np.mean(f1_score_bydata_lstm) )\n",
        "print(\"\\nF1 score on test truncated pred LSTM Trained: \", np.mean(f1_score_bydata_lstm_t) )\n",
        "print(\"\\nF1 score on test truncated pred BI LSTM: \", np.mean(f1_score_bydata_bi) )\n",
        "print(\"\\nF1 score on test truncated pred BI RNN: \", np.mean(f1_score_bydata_bi_two) )"
      ],
      "execution_count": 0,
      "outputs": [
        {
          "output_type": "stream",
          "text": [
            "F1 score on test:  0.9646954482497682\n",
            "\n",
            "F1 score on test truncated pred LSTM:  0.977504508983949\n",
            "\n",
            "F1 score on test truncated pred LSTM Trained:  0.9900195369786975\n",
            "\n",
            "F1 score on test truncated pred BI LSTM:  0.9820812893300784\n",
            "\n",
            "F1 score on test truncated pred BI RNN:  0.9775779119265926\n"
          ],
          "name": "stdout"
        }
      ]
    },
    {
      "cell_type": "markdown",
      "metadata": {
        "id": "YVe5MYhhu5-C",
        "colab_type": "text"
      },
      "source": [
        "> l) Utilice la red con mejor desempeño encontrada, idealmente la encontrada en (j), y **muestre las predicciones** del *NER tager*, sobre algún ejemplo de pruebas, comente.  "
      ]
    },
    {
      "cell_type": "code",
      "metadata": {
        "id": "s93p4o0hMpKT",
        "colab_type": "code",
        "colab": {}
      },
      "source": [
        "inv_lemma = {v: k for k, v in lemma2idx.items()}\n",
        "inv_labels = {v: k for k, v in lab2idx.items()}\n",
        "idx = np.random.choice(np.arange(y_test.shape[0]), size=7, replace=False)"
      ],
      "execution_count": 0,
      "outputs": []
    },
    {
      "cell_type": "code",
      "metadata": {
        "id": "dvZ0hWf1MsbX",
        "colab_type": "code",
        "outputId": "d311efe6-dc2f-4fab-ab4f-af9db89fbbd3",
        "colab": {
          "base_uri": "https://localhost:8080/",
          "height": 1000
        }
      },
      "source": [
        "for i in idx:\n",
        "  p = model_LSTM.predict([[X_test[i]]])  #(np.array([X_test[0]]))\n",
        "  p = np.argmax(p, axis=-1)\n",
        "  labels_list = list(labels)\n",
        "  lemmas_list = list(lemmas)\n",
        "  print(\"\\n{:15}: {:7} , {}\".format(\"Lemma\", \"Pred\", \"True\"))\n",
        "  for word,pred,true in zip(X_test[i],p[0],y_test[i]):\n",
        "      if word+1 != n_lemmas:\n",
        "          print(\"{:15}: {:7} , {}\".format(inv_lemma[word],inv_labels[pred],inv_labels[np.argmax(true, axis=None, out=None)]))"
      ],
      "execution_count": 0,
      "outputs": [
        {
          "output_type": "stream",
          "text": [
            "\n",
            "Lemma          : Pred    , True\n",
            "in             : O       , O\n",
            "an             : O       , O\n",
            "attempt        : O       , O\n",
            "to             : O       , O\n",
            "control        : O       , O\n",
            "the            : O       , O\n",
            "outbreak       : O       , O\n",
            ",              : O       , O\n",
            "the            : O       , O\n",
            "govern         : O       , O\n",
            "has            : O       , O\n",
            "ban            : O       , O\n",
            "the            : O       , O\n",
            "sale           : O       , O\n",
            "of             : O       , O\n",
            "water          : O       , O\n",
            "at             : O       , O\n",
            "market         : O       , O\n",
            ".              : O       , O\n",
            "\n",
            "Lemma          : Pred    , True\n",
            "disput         : O       , O\n",
            "between        : O       , O\n",
            "franc          : B-geo   , B-geo\n",
            "and            : O       , O\n",
            "the            : O       , O\n",
            "unit           : B-geo   , B-org\n",
            "kingdom        : I-geo   , I-org\n",
            "for            : O       , O\n",
            "most           : O       , O\n",
            "of             : O       , O\n",
            "the            : O       , O\n",
            "18th           : O       , B-tim\n",
            "centuri        : O       , I-tim\n",
            ",              : O       , O\n",
            "the            : O       , O\n",
            "island         : O       , O\n",
            "was            : O       , O\n",
            "cede           : O       , O\n",
            "to             : O       , O\n",
            "the            : O       , O\n",
            "latter         : O       , O\n",
            "in             : O       , O\n",
            "1783           : B-geo   , B-tim\n",
            ".              : O       , O\n",
            "\n",
            "Lemma          : Pred    , True\n",
            "nato           : B-org   , B-org\n",
            "say            : O       , O\n",
            "an             : O       , O\n",
            "explos         : O       , O\n",
            "in             : O       , O\n",
            "afghanistan    : B-geo   , B-geo\n",
            "'s             : O       , O\n",
            "eastern        : O       , O\n",
            "provinc        : O       , O\n",
            "of             : O       , O\n",
            "ghazni         : B-geo   , B-geo\n",
            "has            : O       , O\n",
            "kill           : O       , O\n",
            "two            : O       , O\n",
            "soldier        : O       , O\n",
            "and            : O       , O\n",
            "a              : O       , O\n",
            "civilian       : O       , O\n",
            "interpret      : O       , O\n",
            ".              : O       , O\n",
            "\n",
            "Lemma          : Pred    , True\n",
            "india          : B-geo   , B-org\n",
            "and            : O       , I-org\n",
            "pakistan       : B-geo   , I-org\n",
            "have           : O       , O\n",
            "fought         : O       , O\n",
            "three          : O       , O\n",
            "war            : O       , O\n",
            "sinc           : O       , O\n",
            "partit         : O       , O\n",
            "in             : O       , O\n",
            "1947           : O       , B-tim\n",
            ".              : O       , O\n",
            "\n",
            "Lemma          : Pred    , True\n",
            "he             : O       , O\n",
            "said           : O       , O\n",
            "he             : O       , O\n",
            "did            : O       , O\n",
            "so             : O       , O\n",
            "to             : O       , O\n",
            "defeat         : O       , O\n",
            "an             : O       , O\n",
            "escal          : O       , O\n",
            "maoist         : O       , O\n",
            "insurg         : O       , O\n",
            "that           : O       , O\n",
            "has            : O       , O\n",
            "claim          : O       , O\n",
            "more           : O       , O\n",
            "than           : O       , O\n",
            "10,000         : O       , O\n",
            "live           : O       , O\n",
            "sinc           : O       , B-tim\n",
            "1996           : O       , I-tim\n",
            ".              : O       , O\n",
            "\n",
            "Lemma          : Pred    , True\n",
            "the            : O       , O\n",
            "mayor          : B-org   , O\n",
            "blame          : O       , O\n",
            "remnant        : O       , O\n",
            "of             : O       , O\n",
            "the            : O       , O\n",
            "islam          : B-org   , O\n",
            "court          : O       , O\n",
            "movement       : O       , O\n",
            "for            : O       , O\n",
            "the            : O       , O\n",
            "attack         : O       , O\n",
            ".              : O       , O\n",
            "\n",
            "Lemma          : Pred    , True\n",
            "it             : O       , O\n",
            "is             : O       , O\n",
            "not            : O       , O\n",
            "immedi         : O       , O\n",
            "clear          : O       , O\n",
            "what           : O       , O\n",
            "sort           : O       , O\n",
            "of             : O       , O\n",
            "attack         : O       , O\n",
            "the            : O       , O\n",
            "men            : O       , O\n",
            "were           : O       , O\n",
            "plan           : O       , O\n",
            ".              : O       , O\n"
          ],
          "name": "stdout"
        }
      ]
    },
    {
      "cell_type": "markdown",
      "metadata": {
        "colab_type": "text",
        "id": "YAYlvfT-Nqhw"
      },
      "source": [
        "<a id=\"refs\"></a>\n",
        "## Referencias\n",
        "[1] https://es.wikipedia.org/wiki/Ley_de_Zipf    \n",
        "[2] Mikolov, T., Chen, K., Corrado, G., & Dean, J. (2013). *Efficient estimation of word representations in vector space*. arXiv preprint arXiv:1301.3781.    \n",
        "[3] Cho, K., Van Merriënboer, B., Bahdanau, D., & Bengio, Y. (2014). *On the properties of neural machine translation: Encoder-decoder approaches*. arXiv preprint arXiv:1409.1259.  \n",
        "[4] Pal, N. R., & Pal, S. K. (1993). *A review on image segmentation techniques*. Pattern recognition, 26(9), 1277-1294.  \n",
        "[5] Badrinarayanan, V., Kendall, A., & Cipolla, R. (2017). *Segnet: A deep convolutional encoder-decoder architecture for image segmentation*. IEEE transactions on pattern analysis and machine intelligence, 39(12), 2481-2495.  \n",
        "[6] Papineni, K., Roukos, S., Ward, T., & Zhu, W. J. (2002, July). *BLEU: a method for automatic evaluation of machine translation*. In Proceedings of the 40th annual meeting on association for computational linguistics (pp. 311-318). Association for Computational Linguistics.  \n",
        "[7] Kingma, D. P., & Welling, M. (2013). *Auto-encoding variational bayes*. arXiv preprint arXiv:1312.6114.  \n",
        "[8] https://en.wikipedia.org/wiki/Kullback%E2%80%93Leibler_divergence     \n",
        "[9] Dumoulin, V., & Visin, F. (2016). *A guide to convolution arithmetic for deep learning*. arXiv preprint arXiv:1603.07285.  also: https://github.com/vdumoulin/conv_arithmetic  \n",
        "[10] Jang, E., Gu, S., & Poole, B. (2016). *Categorical reparameterization with gumbel-softmax*. arXiv preprint arXiv:1611.01144.  \n",
        "[11] https://en.wikipedia.org/wiki/Cluster_analysis  "
      ]
    }
  ]
}